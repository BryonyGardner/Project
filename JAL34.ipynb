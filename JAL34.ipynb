{
 "cells": [
  {
   "cell_type": "markdown",
   "metadata": {},
   "source": [
    "# JAL34 exploration"
   ]
  },
  {
   "cell_type": "markdown",
   "metadata": {},
   "source": [
    "**JAL34 is a protein downregulated in root hairless mutant *cpc try* versus Col-0. This was identified in a proteomics dataset. Root hairless mutants have altered soil adhesion phenotypes and this could also be through changes in exudate composition as well as lack of root hairs themselves.** "
   ]
  },
  {
   "cell_type": "markdown",
   "metadata": {},
   "source": [
    "### This notebook is taking a look at the nucleotide sequence of JAL34 and trying to translate it into a protein, checking this against an existing protein sequence for this gene."
   ]
  },
  {
   "cell_type": "markdown",
   "metadata": {},
   "source": [
    "First step is to install Biopython, an external module which performs functions useful in analysing bioinformatics data."
   ]
  },
  {
   "cell_type": "code",
   "execution_count": 1,
   "metadata": {},
   "outputs": [
    {
     "name": "stdout",
     "output_type": "stream",
     "text": [
      "Requirement already satisfied: Biopython in c:\\users\\cs20787\\anaconda3\\lib\\site-packages (1.78)\n",
      "Requirement already satisfied: numpy in c:\\users\\cs20787\\anaconda3\\lib\\site-packages (from Biopython) (1.19.2)\n",
      "Note: you may need to restart the kernel to use updated packages.\n"
     ]
    }
   ],
   "source": [
    "pip install Biopython"
   ]
  },
  {
   "cell_type": "markdown",
   "metadata": {},
   "source": [
    "Next, importing modules and functions within Biopython to analyse a fasta file from NCBI containing the nucleotide sequence of JAL34."
   ]
  },
  {
   "cell_type": "code",
   "execution_count": 2,
   "metadata": {},
   "outputs": [],
   "source": [
    "from Bio import SeqIO\n",
    "from Bio.SeqRecord import SeqRecord"
   ]
  },
  {
   "cell_type": "markdown",
   "metadata": {},
   "source": [
    "These functions enable the information in a fasta file to be read and the nucleotide sequence to be extracted."
   ]
  },
  {
   "cell_type": "code",
   "execution_count": 3,
   "metadata": {},
   "outputs": [
    {
     "name": "stdout",
     "output_type": "stream",
     "text": [
      "ID: AY035108.1\n",
      "Name: AY035108.1\n",
      "Description: AY035108.1 Arabidopsis thaliana putative lectin protein (At3g16460) mRNA, complete cds\n",
      "Number of features: 0\n",
      "Seq('ACACCTAATCTTCATCTTCATCTTCGCATTCATAGTCTCTACGATCAGATAGAT...AAA')\n"
     ]
    }
   ],
   "source": [
    "JAL34 = SeqIO.read(\"At3g16460.fasta\", \"fasta\")\n",
    "print(JAL34)"
   ]
  },
  {
   "cell_type": "code",
   "execution_count": 4,
   "metadata": {},
   "outputs": [
    {
     "name": "stdout",
     "output_type": "stream",
     "text": [
      "ACACCTAATCTTCATCTTCATCTTCGCATTCATAGTCTCTACGATCAGATAGATAAAAGAAGTCAACAACGATGTCTTGGGACGATGGATCACACGCAAAGGTGAAGAAAGTGCAGCTAACCTTCGATGAGATCATCTACTCAATCCAGGTCACGTACGACGGAGCCACCGCTCTTCAATCCCAGCTTCGCGGCTCCGTTGGTCCCAAATCTGCTGAGTTCACTTTGGCTCCGGACGAGTACATAACGGCCCTTTCTGCTTACGGCAAATCGTTGAGTACGCAAGAAGTTATTACGGCGTTGACTTTCACAACCAACAAGACTTCTTATGGACCTTACGGTACCAAATCCGGTTTCCAGATTTCTGCTCCGGAAGCCACCGGTAAACAGATCTCCGGTTTCCTTGGTACCAGCGGCAATGTTCTCAACACCATCGACGTTCACTATTCTCCCATACCTACTGGAGGAACTGGCACCGGAGGAACTGGCACCGGAACTGGCACCGGAACTGGCACTGGAACTGGCACTGGCACCGGAACTGGCACTGGAACTGGCACTGGAACTGGCACCGGAGGAACTGGCACTGGAACTGGCACCGGTACTGGAGGAACTGGCACTGGAACTGGCACCGGAGGAACTGGCACTGGAACCGGCACTGGGACTGGCACTGGAACCGGCACTGGGACTGGCACTGGAACCGGCACCGGAGGAACTGGCACTGGAACCGGCACCGGAGGAACTGGCACTGGAACCGGCACTGGGACCGGCACTGGGACCGGCACCGGAGGAACTGGCACTGGAACCGGAACTGGTACCGGTTCAGGTGCTCAGAAATTGGAAGCACAAGGCAACAGTACAGGAGGTACATCATGGGACGATGGATCCGATTACGATGGCGTGACCAAGATATACGCAAGCTACGGTGGGGAAGGTATTCAATACGTCAAGTTCGACTATGTGAAAGGTGGAGTAACAAAACAAGGAGTTCTACACGGTAAACAACAAAGTAGACAAAATCCAAGAGAGTTTGTGATTAACCATCCGGATGAGTATCTTGTTTCTGTTGAGGGTTGGTATGAAACCGTCATGCTAGGAATCCAGTTCAAAACGAACTTGAACACTTATGAGGTCAGCATCTATCCTTTCGAACCTAGTACTGATACTAAATTTACTCTTCAAGTTCAAGACAAGAAGATCATTGGATTTCACGGTTTCGCGGGCAACCATGTTAATTCCATTGGAGCTTACTTCGTTCCAAAATCCTCCACCACTCCTGTTCCTTCAACCCCTTTGAAGCTGACCGCAGAAGGTGGTGAGACAGGAGCTGTATGGGACGATGGTTCTCACGATGATGTTAAGAAAGTTTATGTAGGACAAGGCCAAGATGGTGTTGCAGCTGTCAAGTTTGAATACAAAAATGGTTCTCAGGTTGTTTTTGGAGATGAACGTGGAACGAGAACATTGCTAGGATTCGAAGAGTTCGAGCTTGAATCAGACGAATATATAACATCCGTGGAAGGATACTACGAAAAAAACTTTGGAGTTGATACTGTAGTGACAACGCTGATTTTCAAGACTAGCAAGAACAAAACAGCTGGACCGTTTGGGATTGTATCTGGCACAAAGTTTGAATTCAAGAAGGAAGGTTACAAGATCACTGGGTTCCACGGACGAGCTGGTGAGTATGTTAATGCTATTGGAGCTTATTTAGCTCCATCAGGCACCACCCCTTTGACTCCTGCAACACAATCCCAAAAGCTAGAAGGAGCTGGTAGTGAGGCAGGAACTTTATGGGATGATGGTGCTTTCGACGGTGTAAGGAAAGTGTCTGTAGGACAAGCCCAAGATGGTATTGGAGCGGTCTCGTTTGTGTACGACAAAGCAGGTCAGGTTGTAGAAGGAAAAGAACATGGAAAACCCACATTGCTTGGATTTGAAGAGTTTGAGCTTGACTATCCAAGTGAATACATCACGGCAGTTGATGGCACCTACGATGCAATCTTTGGGAATGAACCAATCGTAAATATGCTTAGGTTCACGACTAATAAGCGAGTATCTATTCCTTTTGGAATAGGAGCTGGCACAGCCTTCGAATTCAAGAAGGACGGTCAAAAGATAGTTGGTTTCCATGGAAGAGCTGGTGATCTACTTCACAAATTTGGAGTCCATGTCGCGCCAATAACCAAATAATTATGGAGATTTTAAGTATCTTTTGATGATAGTTTACACACTTTGAATAAGCTGATTCTACTTTATTTCTCTCTGTTTGTTTACTGCTTCAGTGTTTTAAGTCTTCTCTTTGTGTTTGTTGCTGTTGTGTCTTTGATGGATTTTTGTGATCCGATTTAATAAAAGAAGTGTGTTCAAACTAAAAAAAAAAAAAAAA\n"
     ]
    }
   ],
   "source": [
    "jal34 = JAL34.seq\n",
    "print(jal34)"
   ]
  },
  {
   "cell_type": "markdown",
   "metadata": {},
   "source": [
    "Counting the number of each nucleotide within the gene seqeuence."
   ]
  },
  {
   "cell_type": "code",
   "execution_count": 5,
   "metadata": {},
   "outputs": [
    {
     "name": "stdout",
     "output_type": "stream",
     "text": [
      "{'A': 685, 'C': 506, 'T': 595, 'G': 599}\n"
     ]
    }
   ],
   "source": [
    "count_DNA = jal34\n",
    "nucleotides = {}\n",
    "for n in count_DNA:\n",
    "    if n in nucleotides:\n",
    "        nucleotides[n] += 1\n",
    "    else:\n",
    "        nucleotides[n] =  1\n",
    "print(nucleotides)"
   ]
  },
  {
   "cell_type": "markdown",
   "metadata": {},
   "source": [
    "This nucleotide count information can then be placed in a dataframe."
   ]
  },
  {
   "cell_type": "code",
   "execution_count": 6,
   "metadata": {},
   "outputs": [],
   "source": [
    "import pandas as pd\n",
    "n_count = pd.DataFrame(data=nucleotides, index=[0]).T.reset_index()\n",
    "n_count = n_count.rename(columns={0: 'frequency', 'index': 'nucleotides'})\n",
    "n_count = n_count.sort_values(by=['frequency'], ascending=True)"
   ]
  },
  {
   "cell_type": "markdown",
   "metadata": {},
   "source": [
    "The dataframe can then be plotted to see the distribution of nucleotides in the gene sequence. The graph can be viewed and the image saved."
   ]
  },
  {
   "cell_type": "code",
   "execution_count": 7,
   "metadata": {},
   "outputs": [
    {
     "data": {
      "image/png": "[encoded data removed]",
      "text/plain": [
       "<Figure size 576x288 with 1 Axes>"
      ]
     },
     "metadata": {
      "needs_background": "light"
     },
     "output_type": "display_data"
    }
   ],
   "source": [
    "import matplotlib.pyplot as plt\n",
    "plt.figure(figsize = (8,4)) # can change based on desired size of output\n",
    "a = n_count['frequency'].plot.bar(color= ['red', 'yellow', 'green', 'blue'])\n",
    "plt.xticks(rotation=5) # needed as axis labels at 90 degree angle otherwise\n",
    "plt.ylabel(\"Nucleotide frequency\", weight='bold')\n",
    "r = list(range(len(n_count)))\n",
    "plt.xticks(r, n_count.nucleotides, weight='bold')\n",
    "plt.xlabel(\"Nucleotides\", weight='bold')\n",
    "plt.title(\"Nucleotide content of JAL34\", weight='bold', size=20)\n",
    "plt.savefig(\"Nucleotide graph\")\n",
    "plt.show()"
   ]
  },
  {
   "cell_type": "markdown",
   "metadata": {},
   "source": [
    "The percentage GC content is in important property of nucleic acids. This calculates the percentage GC content of JAL34 and prints the answer."
   ]
  },
  {
   "cell_type": "code",
   "execution_count": 8,
   "metadata": {},
   "outputs": [],
   "source": [
    "dna_list = list(jal34)\n",
    "def GC_content(dna_list): \n",
    "    G_count = dna_list.count(\"G\")\n",
    "    C_count = dna_list.count(\"C\")\n",
    "    Total_count = len(dna_list)\n",
    "    GC_sum = int(G_count) + int(C_count)\n",
    "    Percent_GC = ((GC_sum / Total_count) * 100)\n",
    "    return Percent_GC"
   ]
  },
  {
   "cell_type": "code",
   "execution_count": 9,
   "metadata": {},
   "outputs": [
    {
     "name": "stdout",
     "output_type": "stream",
     "text": [
      "The percentage GC content is 46 %\n"
     ]
    }
   ],
   "source": [
    "Percent = round(GC_content(dna_list))\n",
    "print(f'The percentage GC content is {Percent} %')"
   ]
  },
  {
   "cell_type": "markdown",
   "metadata": {},
   "source": [
    "Each three nucleotides (codons) encode a single amino acid. There are 20 of these each represented in this dictionary by a single letter code. Stop codons are represented by a \"!\"."
   ]
  },
  {
   "cell_type": "code",
   "execution_count": 10,
   "metadata": {},
   "outputs": [],
   "source": [
    "gencode = {\n",
    "    'ATA':'I', 'ATC':'I', 'ATT':'I', 'ATG':'M',\n",
    "    'ACA':'T', 'ACC':'T', 'ACG':'T', 'ACT':'T',\n",
    "    'AAC':'N', 'AAT':'N', 'AAA':'K', 'AAG':'K',\n",
    "    'AGC':'S', 'AGT':'S', 'AGA':'R', 'AGG':'R',\n",
    "    'CTA':'L', 'CTC':'L', 'CTG':'L', 'CTT':'L',\n",
    "    'CCA':'P', 'CCC':'P', 'CCG':'P', 'CCT':'P',\n",
    "    'CAC':'H', 'CAT':'H', 'CAA':'Q', 'CAG':'Q',\n",
    "    'CGA':'R', 'CGC':'R', 'CGG':'R', 'CGT':'R',\n",
    "    'GTA':'V', 'GTC':'V', 'GTG':'V', 'GTT':'V',\n",
    "    'GCA':'A', 'GCC':'A', 'GCG':'A', 'GCT':'A',\n",
    "    'GAC':'D', 'GAT':'D', 'GAA':'E', 'GAG':'E',\n",
    "    'GGA':'G', 'GGC':'G', 'GGG':'G', 'GGT':'G',\n",
    "    'TCA':'S', 'TCC':'S', 'TCG':'S', 'TCT':'S',\n",
    "    'TTC':'F', 'TTT':'F', 'TTA':'L', 'TTG':'L',\n",
    "    'TAC':'Y', 'TAT':'Y', 'TAA':'!', 'TAG':'!',\n",
    "    'TGC':'C', 'TGT':'C', 'TGA':'!', 'TGG':'W'}"
   ]
  },
  {
   "cell_type": "markdown",
   "metadata": {},
   "source": [
    "Translate the nucleotide sequence into an amino acid sequence. Translation into protein begins at the start codon, the three bases \"ATG\" which encode methionine. Translation proceeds in groups of three and  ends at the first stop codon (\"TGA\", \"TAG\", \"TAA\"). "
   ]
  },
  {
   "cell_type": "code",
   "execution_count": 11,
   "metadata": {},
   "outputs": [
    {
     "name": "stdout",
     "output_type": "stream",
     "text": [
      "MSWDDGSHAKVKKVQLTFDEIIYSIQVTYDGATALQSQLRGSVGPKSAEFTLAPDEYITALSAYGKSLSTQEVITALTFTTNKTSYGPYGTKSGFQISAPEATGKQISGFLGTSGNVLNTIDVHYSPIPTGGTGTGGTGTGTGTGTGTGTGTGTGTGTGTGTGTGTGGTGTGTGTGTGGTGTGTGTGGTGTGTGTGTGTGTGTGTGTGTGTGGTGTGTGTGGTGTGTGTGTGTGTGTGGTGTGTGTGTGSGAQKLEAQGNSTGGTSWDDGSDYDGVTKIYASYGGEGIQYVKFDYVKGGVTKQGVLHGKQQSRQNPREFVINHPDEYLVSVEGWYETVMLGIQFKTNLNTYEVSIYPFEPSTDTKFTLQVQDKKIIGFHGFAGNHVNSIGAYFVPKSSTTPVPSTPLKLTAEGGETGAVWDDGSHDDVKKVYVGQGQDGVAAVKFEYKNGSQVVFGDERGTRTLLGFEEFELESDEYITSVEGYYEKNFGVDTVVTTLIFKTSKNKTAGPFGIVSGTKFEFKKEGYKITGFHGRAGEYVNAIGAYLAPSGTTPLTPATQSQKLEGAGSEAGTLWDDGAFDGVRKVSVGQAQDGIGAVSFVYDKAGQVVEGKEHGKPTLLGFEEFELDYPSEYITAVDGTYDAIFGNEPIVNMLRFTTNKRVSIPFGIGAGTAFEFKKDGQKIVGFHGRAGDLLHKFGVHVAPITK\n"
     ]
    }
   ],
   "source": [
    "rna_sequence = jal34\n",
    "bases = len(rna_sequence)\n",
    "\n",
    "protein_start = 0 #counter = 0\n",
    "for b in range(bases):\n",
    "    if(rna_sequence[b:b+3] == \"ATG\"): #if \"ATG\" motif is present, this cuts off the sequence prior and becomes start point\n",
    "        protein_start = b\n",
    "        break\n",
    "protein_sequence = \"\"\n",
    "for b in range(protein_start, bases, 3): #range between start codon and the end of the sequence in increments of 3 (i.e. codon)\n",
    "    AA = gencode[rna_sequence[b:b+3]] #using the dictionary given above for the codon -> amino acids \n",
    "    if(AA ==\"!\"): #if the amino acid is a stop then the loop terminates\n",
    "        break\n",
    "    else:\n",
    "        protein_sequence = protein_sequence + AA\n",
    "print(protein_sequence)"
   ]
  },
  {
   "cell_type": "markdown",
   "metadata": {},
   "source": [
    "Can check how well this translated the nucleotide sequence into protein by doing a pairwise comparison between an available protein sequence for the JAL34 gene (available on UniProt) and the one just produced."
   ]
  },
  {
   "cell_type": "code",
   "execution_count": 12,
   "metadata": {},
   "outputs": [],
   "source": [
    "from Bio import pairwise2\n",
    "seqjal = SeqIO.read(\"O04310.fasta\", \"fasta\") # File downloaded from UniProt https://www.uniprot.org/uniprot/O04310.fasta\n",
    "newseq = protein_sequence\n",
    "alignment = pairwise2.align.globalxx(seqjal.seq, newseq) #.seq needed for the original as it is in fasta format, the other is just a list"
   ]
  },
  {
   "cell_type": "code",
   "execution_count": 13,
   "metadata": {},
   "outputs": [
    {
     "name": "stdout",
     "output_type": "stream",
     "text": [
      "MSWDDGSHAKVKKVQLTFDEIIYSIQVTYDGATALQSQLRGSVGPKSAEFTLAPDEYITALSAYGKSLSTQEVITALTFTTNKTSYGPYGTKSGFQISAPEATGKQISGFLGTSGNVLNTIDVHYSPIPTGGTGTGGTGTGTGTGTGTGTGTGTGTGTGTGTGTGTGGTGTGTGTGTGGTGTGTGTGGTGTGTGTGTGTGTGTGTGTGTGTGGTGTGTGTGGTGTGTGTGTGTGTGTGGTGTGTGTGTGSGAQKLEAQGNSTGGTSWDDGSDYDGVTKIYASYGGEGIQYVKFDYVKGGVTKQGVLHGKQQSRQNPREFVINHPDEYLVSVEGWYETVMLGIQFKTNLNTYEVSIYPFEPSTDTKFTLQVQDKKIIGFHGFAGNHVNSIGAYFVPKSSTTPVPSTPLKLTAEGGETGAVWDDGSHDDVKKVYVGQGQDGVAAVKFEYKNGSQVVFGDERGTRTLLGFEEFELESDEYITSVEGYYEKNFGVDTVVTTLIFKTSKNKTAGPFGIVSGTKFEFKKEGYKITGFHGRAGEYVNAIGAYLAPSGTTPLTPATQSQKLEGAGSEAGTLWDDGAFDGVRKVSVGQAQDGIGAVSFVYDKAGQVVEGKEHGKPTLLGFEEFELDYPSEYITAVDGTYDAIFGNEPIVNMLRFTTNKRVSIPFGIGAGTAFEFKKDGQKIVGFHGRAGDLLHKFGVHVAPITK\n",
      "|||||||||||||||||||||||||||||||||||||||||||||||||||||||||||||||||||||||||||||||||||||||||||||||||||||||||||||||||||||||||||||||||||||||||||||||||||||||||||||||||||||||||||||||||||||||||||||||||||||||||||||||||||||||||||||||||||||||||||||||||||||||||||||||||||||||||||||||||||||||||||||||||||||||||||||||||||||||||||||||||||||||||||||||||||||||||||||||||||||||||||||||||||||||||||||||||||||||||||||||||||||||||||||||||||||||||||||||||||||||||||||||||||||||||||||||||||||||||||||||||||||||||||||||||||||||||||||||||||||||||||||||||||||||||||||||||||||||||||||||||||||||||||||||||||||||||||||||||||||||||||||||||||||||||||||||||||||||||||||||||||||||||||||||||||||||||||||||||||||||||||||||||||||||||||||||||\n",
      "MSWDDGSHAKVKKVQLTFDEIIYSIQVTYDGATALQSQLRGSVGPKSAEFTLAPDEYITALSAYGKSLSTQEVITALTFTTNKTSYGPYGTKSGFQISAPEATGKQISGFLGTSGNVLNTIDVHYSPIPTGGTGTGGTGTGTGTGTGTGTGTGTGTGTGTGTGTGTGGTGTGTGTGTGGTGTGTGTGGTGTGTGTGTGTGTGTGTGTGTGTGGTGTGTGTGGTGTGTGTGTGTGTGTGGTGTGTGTGTGSGAQKLEAQGNSTGGTSWDDGSDYDGVTKIYASYGGEGIQYVKFDYVKGGVTKQGVLHGKQQSRQNPREFVINHPDEYLVSVEGWYETVMLGIQFKTNLNTYEVSIYPFEPSTDTKFTLQVQDKKIIGFHGFAGNHVNSIGAYFVPKSSTTPVPSTPLKLTAEGGETGAVWDDGSHDDVKKVYVGQGQDGVAAVKFEYKNGSQVVFGDERGTRTLLGFEEFELESDEYITSVEGYYEKNFGVDTVVTTLIFKTSKNKTAGPFGIVSGTKFEFKKEGYKITGFHGRAGEYVNAIGAYLAPSGTTPLTPATQSQKLEGAGSEAGTLWDDGAFDGVRKVSVGQAQDGIGAVSFVYDKAGQVVEGKEHGKPTLLGFEEFELDYPSEYITAVDGTYDAIFGNEPIVNMLRFTTNKRVSIPFGIGAGTAFEFKKDGQKIVGFHGRAGDLLHKFGVHVAPITK\n",
      "  Score=705\n",
      "\n"
     ]
    }
   ],
   "source": [
    "print(pairwise2.format_alignment(*alignment[0]))"
   ]
  },
  {
   "cell_type": "markdown",
   "metadata": {},
   "source": [
    "This shows an exact alignment between the two sequences, demonstrating the translation code works for generating protein sequences from a nucleotide sequence."
   ]
  }
 ],
 "metadata": {
  "kernelspec": {
   "display_name": "Python 3",
   "language": "python",
   "name": "python3"
  },
  "language_info": {
   "codemirror_mode": {
    "name": "ipython",
    "version": 3
   },
   "file_extension": ".py",
   "mimetype": "text/x-python",
   "name": "python",
   "nbconvert_exporter": "python",
   "pygments_lexer": "ipython3",
   "version": "3.8.5"
  }
 },
 "nbformat": 4,
 "nbformat_minor": 4
}
